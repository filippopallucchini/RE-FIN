{
 "cells": [
  {
   "cell_type": "code",
   "execution_count": 2,
   "metadata": {},
   "outputs": [],
   "source": [
    "from datasets import load_dataset\n",
    "import evaluate\n",
    "import pandas as pd"
   ]
  },
  {
   "cell_type": "code",
   "execution_count": null,
   "metadata": {},
   "outputs": [],
   "source": [
    "#define path\n",
    "path = 'your_path'\n",
    "\n",
    "# Load dataset\n",
    "df = pd.read_csv(f\"{path}/OUTPUT/fiqa_enriched.csv\", usecols=[1,2],\n",
    "                 header=None, skiprows=1, names=['sentence', 'label'], nrows=771)\n",
    "\n",
    "df = df[['sentence', 'label']]\n",
    "perplexity = evaluate.load(\"perplexity\", module_type=\"metric\")\n",
    "input_texts = list(df['sentence'])\n",
    "\n",
    "input_texts_ufficial = []\n",
    "for i in input_texts:\n",
    "    if len(i) > 512:\n",
    "        print('ecco')\n",
    "        continue\n",
    "    else:\n",
    "        input_texts_ufficial.append(i)\n",
    "\n",
    "#model_id='gpt2'\n",
    "#model_id='openai-gpt'\n",
    "results = perplexity.compute(model_id='openai-gpt',\n",
    "#results = perplexity.compute(model_id='gpt2',\n",
    "                             add_start_token=False,\n",
    "                             predictions=input_texts_ufficial)\n",
    "print(list(results.keys()))\n",
    "print(f'mean_perplexity: {round(results[\"mean_perplexity\"], 2)}')"
   ]
  },
  {
   "cell_type": "code",
   "execution_count": null,
   "metadata": {},
   "outputs": [],
   "source": [
    "#evaluation on https://huggingface.co/datasets/ChanceFocus/fiqa-sentiment-classification\n",
    "dataset_origin = load_dataset(\"ChanceFocus/fiqa-sentiment-classification\")\n",
    "dataset_sentences = []\n",
    "dataset_labels = []\n",
    "for i in dataset_origin['train']:\n",
    "    if i['score']>0.3:\n",
    "        dataset_sentences.append(i['sentence'])\n",
    "        dataset_labels.append(2)\n",
    "    elif i['score']<-0.3:\n",
    "        dataset_sentences.append(i['sentence'])\n",
    "        dataset_labels.append(0)\n",
    "        \n",
    "for i in dataset_origin['valid']:\n",
    "    if i['score']>0.3:\n",
    "        dataset_sentences.append(i['sentence'])\n",
    "        dataset_labels.append(2)\n",
    "    elif i['score']<-0.3:\n",
    "        dataset_sentences.append(i['sentence'])\n",
    "        dataset_labels.append(0)\n",
    "        \n",
    "for i in dataset_origin['test']:\n",
    "    if i['score']>0.3:\n",
    "        dataset_sentences.append(i['sentence'])\n",
    "        dataset_labels.append(2)\n",
    "    elif i['score']<-0.3:\n",
    "        dataset_sentences.append(i['sentence'])\n",
    "        dataset_labels.append(0)\n",
    "\n",
    "perplexity = evaluate.load(\"perplexity\", module_type=\"metric\")\n",
    "input_texts = dataset_sentences\n",
    "#results = perplexity.compute(model_id='openai-gpt',\n",
    "results = perplexity.compute(model_id='gpt2',\n",
    "                             add_start_token=False,\n",
    "                             predictions=input_texts)\n",
    "print(list(results.keys()))\n",
    "print(f'mean_perplexity: {round(results[\"mean_perplexity\"], 2)}')\n",
    "print(f'perplexities: {round(results[\"perplexities\"][0], 2)}')"
   ]
  }
 ],
 "metadata": {
  "kernelspec": {
   "display_name": "pytorch",
   "language": "python",
   "name": "python3"
  },
  "language_info": {
   "codemirror_mode": {
    "name": "ipython",
    "version": 3
   },
   "file_extension": ".py",
   "mimetype": "text/x-python",
   "name": "python",
   "nbconvert_exporter": "python",
   "pygments_lexer": "ipython3",
   "version": "3.10.12"
  }
 },
 "nbformat": 4,
 "nbformat_minor": 2
}
