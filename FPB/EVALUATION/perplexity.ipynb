{
 "cells": [
  {
   "cell_type": "code",
   "execution_count": 1,
   "metadata": {},
   "outputs": [],
   "source": [
    "from datasets import load_dataset\n",
    "import evaluate\n",
    "import pandas as pd"
   ]
  },
  {
   "cell_type": "code",
   "execution_count": null,
   "metadata": {},
   "outputs": [],
   "source": [
    "#define path\n",
    "path = 'your_path'\n",
    "\n",
    "# Load dataset\n",
    "df = pd.read_csv(f\"{path}/OUTPUT/fpb_enriched_allagree.csv\", usecols=[1,2],\n",
    "                 header=None, skiprows=1, names=['sentence', 'label'], nrows=2264)\n",
    "\n",
    "df = df[['sentence', 'label']]\n",
    "perplexity = evaluate.load(\"perplexity\", module_type=\"metric\")\n",
    "input_texts = list(df['sentence'])\n",
    "\n",
    "#model_id='gpt2'\n",
    "#model_id='openai-gpt'\n",
    "results = perplexity.compute(model_id='openai-gpt',\n",
    "#results = perplexity.compute(model_id='gpt2',\n",
    "                             add_start_token=False,\n",
    "                             predictions=input_texts)\n",
    "print(list(results.keys()))\n",
    "print(f'mean_perplexity: {round(results[\"mean_perplexity\"], 2)}')"
   ]
  },
  {
   "cell_type": "code",
   "execution_count": null,
   "metadata": {},
   "outputs": [],
   "source": [
    "dataset = load_dataset(\"financial_phrasebank\", \"sentences_allagree\")\n",
    "perplexity = evaluate.load(\"perplexity\", module_type=\"metric\")\n",
    "input_texts = dataset['train']['sentence']\n",
    "results = perplexity.compute(model_id='openai-gpt',\n",
    "#results = perplexity.compute(model_id='gpt2',\n",
    "                             add_start_token=False,\n",
    "                             predictions=input_texts)\n",
    "print(list(results.keys()))\n",
    "print(f'mean_perplexity: {round(results[\"mean_perplexity\"], 2)}')"
   ]
  }
 ],
 "metadata": {
  "kernelspec": {
   "display_name": "pytorch",
   "language": "python",
   "name": "python3"
  },
  "language_info": {
   "codemirror_mode": {
    "name": "ipython",
    "version": 3
   },
   "file_extension": ".py",
   "mimetype": "text/x-python",
   "name": "python",
   "nbconvert_exporter": "python",
   "pygments_lexer": "ipython3",
   "version": "3.10.12"
  }
 },
 "nbformat": 4,
 "nbformat_minor": 2
}
