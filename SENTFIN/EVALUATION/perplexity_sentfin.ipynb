{
 "cells": [
  {
   "cell_type": "code",
   "execution_count": 2,
   "metadata": {},
   "outputs": [],
   "source": [
    "from datasets import load_dataset\n",
    "import evaluate\n",
    "import pandas as pd"
   ]
  },
  {
   "cell_type": "code",
   "execution_count": null,
   "metadata": {},
   "outputs": [],
   "source": [
    "#define path\n",
    "path = 'your_path'\n",
    "\n",
    "# Load dataset\n",
    "df = pd.read_csv(f\"{path}/OUTPUT/sentfin_enriched.csv\")\n",
    "df = df[['sentence', 'label']]\n",
    "perplexity = evaluate.load(\"perplexity\", module_type=\"metric\")\n",
    "#input_texts = dataset['train']['sentence']\n",
    "input_texts = list(df['sentence'])\n",
    "\n",
    "#model_id='gpt2'\n",
    "#model_id='openai-gpt'\n",
    "results = perplexity.compute(model_id='openai-gpt',\n",
    "#results = perplexity.compute(model_id='gpt2',\n",
    "                             add_start_token=False,\n",
    "                             predictions=input_texts)\n",
    "print(list(results.keys()))\n",
    "print(f'mean_perplexity: {round(results[\"mean_perplexity\"], 2)}')"
   ]
  },
  {
   "cell_type": "code",
   "execution_count": null,
   "metadata": {},
   "outputs": [],
   "source": [
    "#evaluation on https://huggingface.co/datasets/ChanceFocus/fiqa-sentiment-classification\n",
    "path_sentfin = f'{path}/DATA/SEntFiN_clean.csv'\n",
    "dataset_origin = pd.read_csv(path_sentfin)\n",
    "\n",
    "perplexity = evaluate.load(\"perplexity\", module_type=\"metric\")\n",
    "input_texts = dataset_origin['sentence']\n",
    "results = perplexity.compute(model_id='openai-gpt',\n",
    "#results = perplexity.compute(model_id='gpt2',\n",
    "                             add_start_token=False,\n",
    "                             predictions=input_texts)\n",
    "print(list(results.keys()))\n",
    "print(f'mean_perplexity: {round(results[\"mean_perplexity\"], 2)}')"
   ]
  }
 ],
 "metadata": {
  "kernelspec": {
   "display_name": "pytorch",
   "language": "python",
   "name": "python3"
  },
  "language_info": {
   "codemirror_mode": {
    "name": "ipython",
    "version": 3
   },
   "file_extension": ".py",
   "mimetype": "text/x-python",
   "name": "python",
   "nbconvert_exporter": "python",
   "pygments_lexer": "ipython3",
   "version": "3.10.12"
  }
 },
 "nbformat": 4,
 "nbformat_minor": 2
}
